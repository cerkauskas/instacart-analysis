{
 "cells": [
  {
   "cell_type": "code",
   "execution_count": 1,
   "metadata": {},
   "outputs": [
    {
     "name": "stdout",
     "output_type": "stream",
     "text": [
      "aisles.csv\t\t\t\t\t     order_products__train.csv\r\n",
      "departments.csv\t\t\t\t\t     orders.csv\r\n",
      "instacart_online_grocery_shopping_2017_05_01.tar.gz  products.csv\r\n",
      "order_products__prior.csv\r\n"
     ]
    }
   ],
   "source": [
    "!ls ../data"
   ]
  },
  {
   "cell_type": "code",
   "execution_count": 2,
   "metadata": {},
   "outputs": [],
   "source": [
    "import psycopg2\n",
    "import pandas as pd\n",
    "import math"
   ]
  },
  {
   "cell_type": "code",
   "execution_count": 3,
   "metadata": {},
   "outputs": [],
   "source": [
    "conn = psycopg2.connect(dbname=\"postgres\", user=\"postgres\", password=\"postgres\", host=\"postgres\")"
   ]
  },
  {
   "cell_type": "code",
   "execution_count": 4,
   "metadata": {},
   "outputs": [],
   "source": [
    "cur = conn.cursor()"
   ]
  },
  {
   "cell_type": "markdown",
   "metadata": {},
   "source": [
    "## Cleaning up database if it is not empty"
   ]
  },
  {
   "cell_type": "code",
   "execution_count": 5,
   "metadata": {},
   "outputs": [
    {
     "name": "stdout",
     "output_type": "stream",
     "text": [
      "['products', 'orders', 'order_products', 'aisles', 'departments']\n"
     ]
    }
   ],
   "source": [
    "cur.execute(\"\"\"SELECT TABLE_NAME FROM information_schema.tables WHERE table_schema = 'public'\"\"\")\n",
    "tables = list(map(lambda x: x[0], cur.fetchall()))\n",
    "\n",
    "print(tables)"
   ]
  },
  {
   "cell_type": "code",
   "execution_count": 6,
   "metadata": {},
   "outputs": [],
   "source": [
    "if len(tables) > 0:\n",
    "    cur.execute(\"DROP TABLE %s;\" % ', '.join(tables))\n",
    "    conn.commit()"
   ]
  },
  {
   "cell_type": "markdown",
   "metadata": {},
   "source": [
    "## Create database schema"
   ]
  },
  {
   "cell_type": "code",
   "execution_count": 7,
   "metadata": {},
   "outputs": [],
   "source": [
    "schema = (\"\"\"CREATE TABLE departments\n",
    "(\n",
    "    id INTEGER PRIMARY KEY,\n",
    "    name VARCHAR(50)\n",
    ");\n",
    "\n",
    "CREATE TABLE aisles\n",
    "(\n",
    "    id INTEGER PRIMARY KEY,\n",
    "    name VARCHAR(50)\n",
    ");\n",
    "\n",
    "CREATE TABLE products\n",
    "(\n",
    "    id INTEGER PRIMARY KEY,\n",
    "    name VARCHAR(255),\n",
    "    aisle_id INTEGER,\n",
    "    department_id INTEGER,\n",
    "    CONSTRAINT products_aisles_id_fk FOREIGN KEY (aisle_id) REFERENCES aisles (id),\n",
    "    CONSTRAINT products_departments_id_fk FOREIGN KEY (department_id) REFERENCES departments (id)\n",
    ");\n",
    "\n",
    "CREATE TABLE orders\n",
    "(\n",
    "    id INTEGER PRIMARY KEY,\n",
    "    user_id INTEGER,\n",
    "    eval_set CHAR(5),\n",
    "    order_number INTEGER,\n",
    "    day_of_week SMALLINT,\n",
    "    hour_of_day SMALLINT,\n",
    "    days_since_prior_order SMALLINT\n",
    ");\n",
    "\n",
    "CREATE TABLE order_products\n",
    "(\n",
    "    order_id INTEGER,\n",
    "    product_id INTEGER,\n",
    "    add_to_cart_order INTEGER,\n",
    "    reordered BOOLEAN,\n",
    "    CONSTRAINT order_products_products_id_fk FOREIGN KEY (product_id) REFERENCES products (id),\n",
    "    CONSTRAINT order_products_orders_id_fk FOREIGN KEY (order_id) REFERENCES orders (id)\n",
    ");\"\"\")\n",
    "    \n",
    "cur.execute(schema)\n",
    "conn.commit()"
   ]
  },
  {
   "cell_type": "markdown",
   "metadata": {},
   "source": [
    "## Adding content"
   ]
  },
  {
   "cell_type": "markdown",
   "metadata": {},
   "source": [
    "Add aisles to database"
   ]
  },
  {
   "cell_type": "code",
   "execution_count": 8,
   "metadata": {},
   "outputs": [],
   "source": [
    "aisles = pd.read_csv('../data/aisles.csv')\n",
    "\n",
    "for key, row in aisles.iterrows():\n",
    "    cur.execute(\"\"\"INSERT INTO aisles(id, name) VALUES(%d, '%s');\"\"\" % (row['aisle_id'], row['aisle']))\n",
    "conn.commit()"
   ]
  },
  {
   "cell_type": "markdown",
   "metadata": {},
   "source": [
    "Add departments to database"
   ]
  },
  {
   "cell_type": "code",
   "execution_count": 9,
   "metadata": {},
   "outputs": [],
   "source": [
    "departments = pd.read_csv('../data/departments.csv')\n",
    "\n",
    "for key, row in departments.iterrows():\n",
    "    cur.execute(\"\"\"INSERT INTO departments(id, name) VALUES(%d, '%s');\"\"\" % (row['department_id'], row['department']))\n",
    "conn.commit()"
   ]
  },
  {
   "cell_type": "markdown",
   "metadata": {},
   "source": [
    "Add products"
   ]
  },
  {
   "cell_type": "code",
   "execution_count": 10,
   "metadata": {},
   "outputs": [],
   "source": [
    "products = pd.read_csv('../data/products.csv')\n",
    "\n",
    "for key, row in products.iterrows():\n",
    "    cur.execute(\"\"\"INSERT INTO products(id, name, aisle_id, department_id) VALUES(%s, %s, %s, %s);\"\"\",\n",
    "                (row['product_id'], row['product_name'], row['aisle_id'], row['department_id']))\n",
    "conn.commit()"
   ]
  },
  {
   "cell_type": "markdown",
   "metadata": {},
   "source": [
    "### Add orders"
   ]
  },
  {
   "cell_type": "code",
   "execution_count": 11,
   "metadata": {},
   "outputs": [],
   "source": [
    "orders = pd.read_csv('../data/orders.csv')\n",
    "\n",
    "for key, row in orders.iterrows():\n",
    "    days_since_prior_order = None\n",
    "    if not math.isnan(row['days_since_prior_order']):\n",
    "        days_since_prior_order = row['days_since_prior_order']\n",
    "    \n",
    "    cur.execute(\"\"\"INSERT INTO orders(id, user_id, eval_set, order_number, day_of_week, hour_of_day, days_since_prior_order)\n",
    "    VALUES(%s, %s, %s, %s, %s, %s, %s)\"\"\", (row['order_id'], row['user_id'], row['eval_set'], row['order_number'], row['order_dow'], row['order_hour_of_day'], days_since_prior_order))\n",
    "conn.commit()"
   ]
  },
  {
   "cell_type": "markdown",
   "metadata": {},
   "source": [
    "### Add order details"
   ]
  },
  {
   "cell_type": "code",
   "execution_count": 12,
   "metadata": {},
   "outputs": [],
   "source": [
    "order_products_prior = pd.read_csv('../data/order_products__prior.csv')\n",
    "order_products_train = pd.read_csv('../data/order_products__train.csv')"
   ]
  },
  {
   "cell_type": "code",
   "execution_count": 13,
   "metadata": {},
   "outputs": [
    {
     "data": {
      "text/plain": [
       "set()"
      ]
     },
     "execution_count": 13,
     "metadata": {},
     "output_type": "execute_result"
    }
   ],
   "source": [
    "set(order_products_prior['order_id']).intersection(set(order_products_train['order_id']))"
   ]
  },
  {
   "cell_type": "code",
   "execution_count": 14,
   "metadata": {},
   "outputs": [],
   "source": [
    "for dataset in (order_products_prior, order_products_train):\n",
    "    for key, row in dataset.iterrows():\n",
    "        cur.execute(\"\"\"INSERT INTO order_products(order_id, product_id, add_to_cart_order, reordered) VALUES (%s, %s, %s, %s)\"\"\",\n",
    "                   (int(row['order_id']), int(row['product_id']), int(row['add_to_cart_order']), int(row['reordered']) == 1))\n",
    "conn.commit()"
   ]
  },
  {
   "cell_type": "markdown",
   "metadata": {},
   "source": [
    "## Validating database row count"
   ]
  },
  {
   "cell_type": "code",
   "execution_count": 15,
   "metadata": {},
   "outputs": [
    {
     "data": {
      "text/plain": [
       "True"
      ]
     },
     "execution_count": 15,
     "metadata": {},
     "output_type": "execute_result"
    }
   ],
   "source": [
    "cur.execute(\"\"\"SELECT COUNT(*) FROM aisles\"\"\")\n",
    "cur.fetchone()[0] == len(aisles)"
   ]
  },
  {
   "cell_type": "code",
   "execution_count": 16,
   "metadata": {},
   "outputs": [
    {
     "data": {
      "text/plain": [
       "True"
      ]
     },
     "execution_count": 16,
     "metadata": {},
     "output_type": "execute_result"
    }
   ],
   "source": [
    "cur.execute(\"\"\"SELECT COUNT(*) FROM departments\"\"\")\n",
    "cur.fetchone()[0] == len(departments)"
   ]
  },
  {
   "cell_type": "code",
   "execution_count": 17,
   "metadata": {},
   "outputs": [
    {
     "data": {
      "text/plain": [
       "True"
      ]
     },
     "execution_count": 17,
     "metadata": {},
     "output_type": "execute_result"
    }
   ],
   "source": [
    "cur.execute(\"\"\"SELECT COUNT(*) FROM products\"\"\")\n",
    "cur.fetchone()[0] == len(products)"
   ]
  },
  {
   "cell_type": "code",
   "execution_count": 18,
   "metadata": {},
   "outputs": [
    {
     "data": {
      "text/plain": [
       "True"
      ]
     },
     "execution_count": 18,
     "metadata": {},
     "output_type": "execute_result"
    }
   ],
   "source": [
    "cur.execute(\"\"\"SELECT COUNT(*) FROM orders\"\"\")\n",
    "cur.fetchone()[0] == len(orders)"
   ]
  },
  {
   "cell_type": "code",
   "execution_count": 19,
   "metadata": {},
   "outputs": [
    {
     "data": {
      "text/plain": [
       "True"
      ]
     },
     "execution_count": 19,
     "metadata": {},
     "output_type": "execute_result"
    }
   ],
   "source": [
    "cur.execute(\"\"\"SELECT COUNT(*) FROM order_products\"\"\")\n",
    "cur.fetchone()[0] == (len(order_products_prior) + len(order_products_train))"
   ]
  },
  {
   "cell_type": "code",
   "execution_count": null,
   "metadata": {},
   "outputs": [],
   "source": []
  }
 ],
 "metadata": {
  "kernelspec": {
   "display_name": "Python 3",
   "language": "python",
   "name": "python3"
  },
  "language_info": {
   "codemirror_mode": {
    "name": "ipython",
    "version": 3
   },
   "file_extension": ".py",
   "mimetype": "text/x-python",
   "name": "python",
   "nbconvert_exporter": "python",
   "pygments_lexer": "ipython3",
   "version": "3.6.5"
  }
 },
 "nbformat": 4,
 "nbformat_minor": 2
}
